{
 "cells": [
  {
   "cell_type": "code",
   "execution_count": 1,
   "metadata": {
    "collapsed": true
   },
   "outputs": [],
   "source": [
    "import numpy as np\n",
    "import matplotlib.pyplot as plt"
   ]
  },
  {
   "cell_type": "code",
   "execution_count": 25,
   "metadata": {
    "collapsed": true
   },
   "outputs": [],
   "source": [
    "#set all of the global variables\n",
    "c = 4.\n",
    "epsilon = 1.2\n",
    "N = 30 #no.of neurons\n",
    "N_i = 30 #no. of iterations\n",
    "theta_0 = 0.#orientation of the stimuli\n",
    "theta_i = np.linspace(-np.pi/2.,np.pi/2., 30)#neuron preferred orientation"
   ]
  },
  {
   "cell_type": "code",
   "execution_count": 10,
   "metadata": {
    "collapsed": true
   },
   "outputs": [],
   "source": [
    "#function to generate the external inputs \n",
    "def h_i(theta_n,theta, c, epsilon):\n",
    "    h = c*((1-epsilon)+epsilon*np.cos(2*(theta_n-theta)))\n",
    "    return h\n",
    "   # plt.plot(theta_i,h)\n",
    "   # plt.show()"
   ]
  },
  {
   "cell_type": "code",
   "execution_count": 13,
   "metadata": {
    "collapsed": true
   },
   "outputs": [],
   "source": [
    "#further variables\n",
    "h_1=h_i(theta_i,theta_0,c,epsilon)\n",
    "T=0.\n",
    "beta=0.1\n",
    "h_2=np.linspace(-15.,15.,N_i)\n",
    "g = np.zeros_like(h_2)"
   ]
  },
  {
   "cell_type": "code",
   "execution_count": 15,
   "metadata": {
    "collapsed": true
   },
   "outputs": [],
   "source": [
    "#inputs to neurons non-linearly filtered given activation function g_act\n",
    "def g_act(h,T):\n",
    "    g = np.zeros_like(h,dtype=float)\n",
    "    g[h>T] = beta*(h[h>T]-T)\n",
    "    g[h>(T+(1./0.1))] = np.ones_like(h[h>(T+(1./0.1))], dtype=float)\n",
    "    return g"
   ]
  },
  {
   "cell_type": "code",
   "execution_count": 17,
   "metadata": {},
   "outputs": [
    {
     "data": {
      "image/png": "[encoded data removed]",
      "text/plain": [
       "<matplotlib.figure.Figure at 0x1e6676367f0>"
      ]
     },
     "metadata": {},
     "output_type": "display_data"
    }
   ],
   "source": [
    "#result of the linear filter\n",
    "g_1 = g_act(h_2, T)\n",
    "#plot the result\n",
    "plt.plot(g_1, h_2)\n",
    "plt.show()\n",
    "trange=np.linspace(0.,100.,N_i)\n",
    "tau=5."
   ]
  },
  {
   "cell_type": "code",
   "execution_count": 20,
   "metadata": {
    "collapsed": true
   },
   "outputs": [],
   "source": [
    "#rate based neuron model\n",
    "def iaf(g_in,tau):\n",
    "    trange=np.linspace(0.,100.,N_i)\n",
    "    m=np.zeros_like(g_1,dtype=float)\n",
    "    for i in range(1,len(trange)):  \n",
    "            m[i]=m[i-1]+((trange[i]-trange[i-1])/tau)*(-m[i-1]+g_in[i])\n",
    "            return m\n",
    "    plt.plot(trange,m)\n",
    "    plt.show()\n",
    "\n",
    "act = iaf(g_1,tau)\n",
    "j_0 = 86.\n",
    "j_2 = 112."
   ]
  },
  {
   "cell_type": "code",
   "execution_count": 21,
   "metadata": {
    "collapsed": true
   },
   "outputs": [],
   "source": [
    "#matrix of connections between the N neurons\n",
    "def create_matrix(j_0,j_2,thetai):\n",
    "    j_matrix=np.zeros((N,N))\n",
    "    for i in range(len(thetai)):\n",
    "        for j in range(len(thetai)):\n",
    "            j_matrix[i,j]=j_0+j_2*np.cos(2*(thetai[i]-thetai[j]))\n",
    "    return j_matrix\n"
   ]
  },
  {
   "cell_type": "code",
   "execution_count": 22,
   "metadata": {
    "collapsed": true
   },
   "outputs": [],
   "source": [
    "#input to the neurons with recurrent connections\n",
    "def recurrent_connections(j_m, m_j, h_ext):\n",
    "    h_i = np.dot(j_m, m_j)+h_ext\n",
    "    return h_i\n",
    "    "
   ]
  },
  {
   "cell_type": "code",
   "execution_count": 26,
   "metadata": {},
   "outputs": [
    {
     "name": "stdout",
     "output_type": "stream",
     "text": [
      "[-5.6        -5.48777867 -5.15636201 -4.62124672 -3.90745417 -3.04836052\n",
      " -2.08413602 -1.05986676 -0.02344642  0.97666315  1.89369791  2.68477836\n",
      "  3.31291445  3.74873522  3.97186219  3.97186219  3.74873522  3.31291445\n",
      "  2.68477836  1.89369791  0.97666315 -0.02344642 -1.05986676 -2.08413602\n",
      " -3.04836052 -3.90745417 -4.62124672 -5.15636201 -5.48777867 -5.6       ]\n"
     ]
    }
   ],
   "source": [
    "#results\n",
    "M=create_matrix(j_0,j_2,theta_i)\n",
    "#print test\n",
    "#plt.pcolor(test)\n",
    "#plt.show() \n",
    "h_in=recurrent_connections(M,act,h_1)\n",
    "print(h_in)"
   ]
  },
  {
   "cell_type": "code",
   "execution_count": 27,
   "metadata": {},
   "outputs": [
    {
     "name": "stdout",
     "output_type": "stream",
     "text": [
      "[ 0.          0.          0.          0.          0.          0.          0.\n",
      "  0.          0.          0.09766631  0.18936979  0.26847784  0.33129144\n",
      "  0.37487352  0.39718622  0.39718622  0.37487352  0.33129144  0.26847784\n",
      "  0.18936979  0.09766631  0.          0.          0.          0.          0.\n",
      "  0.          0.          0.          0.        ]\n"
     ]
    }
   ],
   "source": [
    "act_1=g_act(h_in,T)\n",
    "print(act_1)\n"
   ]
  },
  {
   "cell_type": "code",
   "execution_count": 28,
   "metadata": {},
   "outputs": [
    {
     "data": {
      "image/png": "[encoded data removed]",
      "text/plain": [
       "<matplotlib.figure.Figure at 0x1e667958208>"
      ]
     },
     "metadata": {},
     "output_type": "display_data"
    }
   ],
   "source": [
    "#plot results of activation function\n",
    "plt.plot(trange, act_1)\n",
    "plt.xlabel('time')\n",
    "plt.ylabel('act_1')\n",
    "plt.show()"
   ]
  },
  {
   "cell_type": "code",
   "execution_count": null,
   "metadata": {
    "collapsed": true
   },
   "outputs": [],
   "source": []
  }
 ],
 "metadata": {
  "kernelspec": {
   "display_name": "Python 3",
   "language": "python",
   "name": "python3"
  },
  "language_info": {
   "codemirror_mode": {
    "name": "ipython",
    "version": 3
   },
   "file_extension": ".py",
   "mimetype": "text/x-python",
   "name": "python",
   "nbconvert_exporter": "python",
   "pygments_lexer": "ipython3",
   "version": "3.6.3"
  }
 },
 "nbformat": 4,
 "nbformat_minor": 2
}
